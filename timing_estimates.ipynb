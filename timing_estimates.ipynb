{
 "metadata": {
  "name": ""
 },
 "nbformat": 3,
 "nbformat_minor": 0,
 "worksheets": [
  {
   "cells": [
    {
     "cell_type": "markdown",
     "metadata": {},
     "source": [
      "#Timing estimates"
     ]
    },
    {
     "cell_type": "markdown",
     "metadata": {},
     "source": [
      "We want to compute the time taken on the cluster"
     ]
    },
    {
     "cell_type": "code",
     "collapsed": false,
     "input": [
      "nodes=4\n",
      "ppn=24\n",
      "procs=ppn*nodes\n",
      "\n",
      "nlat=480\n",
      "nlon=2*nlat\n",
      "\n",
      "nlat_block=nlat/procs\n",
      "nlon_block=nlon/procs\n",
      "\n",
      "blocksize=nlat_block*nlon_block\n",
      "\n",
      "print \"Nlat per block\",nlat_block,\"nlon per block\",nlon_block"
     ],
     "language": "python",
     "metadata": {},
     "outputs": [
      {
       "output_type": "stream",
       "stream": "stdout",
       "text": [
        "Nlat per block 5 nlon per block 10\n"
       ]
      }
     ],
     "prompt_number": 7
    },
    {
     "cell_type": "code",
     "collapsed": false,
     "input": [
      "time_per_block_for_each_omega=42 #seconds\n",
      "simlutaneous_blocks_on_cluster=procs\n",
      "\n",
      "n_omega=960\n",
      "\n",
      "total_time=time_per_block_for_each_omega*n_omega*simlutaneous_blocks_on_cluster\n",
      "print \"time required on cluster\",total_time/60.0**2,\"hrs\"\n"
     ],
     "language": "python",
     "metadata": {},
     "outputs": [
      {
       "output_type": "stream",
       "stream": "stdout",
       "text": [
        "time required on cluster 1075.2 hrs\n"
       ]
      }
     ],
     "prompt_number": 9
    },
    {
     "cell_type": "code",
     "collapsed": false,
     "input": [
      "nodes=10\n",
      "ppn=24\n",
      "nlat=144*2\n",
      "nr=798\n",
      "nomega=960\n",
      "\n",
      "nlon=2*nlat\n",
      "nlon_per_block=nlon/ppn\n",
      "number_of_omega_block=nodes\n",
      "nomega_per_node=nomega/nodes\n",
      "time_per_block_per_omega=51 #seconds\n",
      "simmultanaeous_blocks_on_cluster=ppn\n",
      "time_on_whole_angular_grid_per_omega_on_cluster=time_per_block_per_omega #seconds\n",
      "total_time=time_on_whole_angular_grid_per_omega_on_cluster*nomega_per_node\n",
      "\n",
      "\n",
      "size_of_file_per_proc=nr*nlat*nlon_per_block*8/1e9\n",
      "size_per_node=size_of_file_per_proc*ppn\n",
      "total_size=size_per_node*nodes\n",
      "size_for_two_kernels=total_size*2\n",
      "num_temp_array=8\n",
      "size_on_ram=6*24*nr*nlat*nlon_per_block*num_temp_array*8/1e9\n",
      "\n",
      "print 'total time', total_time/60.0**2\n",
      "print 'size_for_two_kernels',size_for_two_kernels\n",
      "print 'size on ram',size_on_ram"
     ],
     "language": "python",
     "metadata": {},
     "outputs": [
      {
       "output_type": "stream",
       "stream": "stdout",
       "text": [
        "total time 1.36\n",
        "size_for_two_kernels 21.18057984\n",
        "size on ram 50.833391616\n"
       ]
      }
     ],
     "prompt_number": 8
    },
    {
     "cell_type": "code",
     "collapsed": false,
     "input": [],
     "language": "python",
     "metadata": {},
     "outputs": []
    }
   ],
   "metadata": {}
  }
 ]
}